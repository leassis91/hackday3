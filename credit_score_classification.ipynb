{
 "cells": [
  {
   "cell_type": "markdown",
   "id": "183cd2c0",
   "metadata": {},
   "source": [
    "Notebook for [Credit Card Classification Competition](https://www.kaggle.com/competitions/cdshackdays3/) in Kaggle, won by PyMey team."
   ]
  },
  {
   "cell_type": "markdown",
   "id": "34a2272b",
   "metadata": {
    "ExecuteTime": {
     "end_time": "2022-10-11T11:33:53.098919Z",
     "start_time": "2022-10-11T11:33:53.096589Z"
    },
    "heading_collapsed": true
   },
   "source": [
    "# 0.0 Imports"
   ]
  },
  {
   "cell_type": "code",
   "execution_count": 1,
   "id": "0db0b353",
   "metadata": {
    "ExecuteTime": {
     "end_time": "2022-10-24T12:55:18.158683Z",
     "start_time": "2022-10-24T12:55:16.359554Z"
    },
    "hidden": true
   },
   "outputs": [],
   "source": [
    "import pandas as pd\n",
    "import numpy as np\n",
    "import matplotlib.pyplot as plt\n",
    "import seaborn as sns\n",
    "from scipy import stats\n",
    "import os\n",
    "import gc\n",
    "import random\n",
    "\n",
    "import xgboost as xgb\n",
    "import lightgbm as lgbm\n",
    "import catboost as cb\n",
    "\n",
    "from IPython.core.display  import HTML\n",
    "from IPython.display       import Image\n",
    "\n",
    "from sklearn.metrics         import mean_squared_error, r2_score, mean_absolute_error\n",
    "from sklearn.metrics         import classification_report\n",
    "from sklearn.model_selection import TimeSeriesSplit, KFold, StratifiedKFold, GroupKFold\n",
    "\n",
    "\n",
    "from sklearn.preprocessing   import RobustScaler, MinMaxScaler, OneHotEncoder, LabelEncoder, PolynomialFeatures, StandardScaler\n",
    "from sklearn.ensemble        import RandomForestClassifier\n",
    "from sklearn.ensemble        import ExtraTreesClassifier\n",
    "from sklearn.neighbors       import KNeighborsClassifier\n",
    "from sklearn.ensemble        import RandomForestClassifier\n",
    "from sklearn.linear_model    import LogisticRegression, Ridge\n",
    "from sklearn.linear_model    import LogisticRegressionCV\n",
    "from sklearn.model_selection import train_test_split\n",
    "from sklearn.model_selection import cross_val_score\n",
    "\n",
    "\n",
    "import optuna\n",
    "\n",
    "\n",
    "from sklearn.metrics         import confusion_matrix, accuracy_score, f1_score, roc_auc_score, roc_curve\n",
    "\n",
    "from colorama                import Fore, Back, Style\n",
    "\n",
    "\n",
    "import warnings\n",
    "warnings.filterwarnings(\"ignore\")"
   ]
  },
  {
   "cell_type": "markdown",
   "id": "835a3ae1",
   "metadata": {
    "heading_collapsed": true
   },
   "source": [
    "# 1.0 Helper Functions"
   ]
  },
  {
   "cell_type": "code",
   "execution_count": 2,
   "id": "10a84fda",
   "metadata": {
    "ExecuteTime": {
     "end_time": "2022-10-24T12:55:47.814036Z",
     "start_time": "2022-10-24T12:55:47.794989Z"
    },
    "hidden": true
   },
   "outputs": [
    {
     "data": {
      "text/html": [
       "<style>.conteiner{width:100% !important;}</style>"
      ],
      "text/plain": [
       "<IPython.core.display.HTML object>"
      ]
     },
     "metadata": {},
     "output_type": "display_data"
    }
   ],
   "source": [
    "def jupyter_settings():\n",
    "    %matplotlib inline\n",
    "\n",
    "    plt.style.use('bmh')\n",
    "    plt.rcParams['figure.figsize'] = [25, 12]\n",
    "    plt.rcParams['font.size'] = 24\n",
    "\n",
    "    display(HTML('<style>.conteiner{width:100% !important;}</style>'))\n",
    "\n",
    "    pd.options.display.max_columns = None\n",
    "    pd.options.display.max_rows = None\n",
    "    pd.set_option('display.expand_frame_repr', False)\n",
    "    # configura o pandas para quantidade de casas decimais\n",
    "    pd.set_option('display.float_format', lambda x: '%.5f' % x)\n",
    "    color_pal = sns.color_palette()\n",
    "    plt.style.use('fivethirtyeight')\n",
    "\n",
    "    sns.set()\n",
    "jupyter_settings()\n",
    "\n",
    "\n",
    "    \n",
    "def make_mi_scores(mi_scores, X, y):\n",
    "    mi_scores = pd.Series(mi_scores, name=\"MI Scores\")\n",
    "    mi_scores = mi_scores.sort_values(ascending=False)\n",
    "    return mi_scores\n",
    "\n",
    "def plot_mi_scores(scores, X):\n",
    "    scores = scores.sort_values(ascending=True)\n",
    "    width = np.arange(len(scores))\n",
    "    ticks = X.columns[scores.index]\n",
    "    plt.barh(width, scores)\n",
    "    plt.yticks(width, ticks)\n",
    "    plt.title(\"Mutual Information Scores\")\n",
    "    return ticks\n",
    "\n",
    "def find_outliers_tukey(x):\n",
    "    q1 = np.percentile(x, 25)\n",
    "    q3 = np.percentile(x, 75)\n",
    "    iqr = q3-q1 \n",
    "    floor = q1 - 1.5*iqr\n",
    "    ceiling = q3 + 1.5*iqr\n",
    "    outlier_indices = list(x.index[(x < floor)|(x > ceiling)])\n",
    "    outlier_values = list(x[outlier_indices])\n",
    "\n",
    "    return outlier_indices, outlier_values\n",
    "\n",
    "\n",
    "color_pal = sns.color_palette()\n",
    "plt.style.use('fivethirtyeight')"
   ]
  },
  {
   "cell_type": "markdown",
   "id": "2f469b36",
   "metadata": {
    "heading_collapsed": true
   },
   "source": [
    "# 2.0 CFG"
   ]
  },
  {
   "cell_type": "code",
   "execution_count": 3,
   "id": "d748c46f",
   "metadata": {
    "ExecuteTime": {
     "end_time": "2022-10-24T12:55:49.230523Z",
     "start_time": "2022-10-24T12:55:49.227666Z"
    },
    "hidden": true
   },
   "outputs": [],
   "source": [
    "class CFG:\n",
    "    FOLDS = 5\n",
    "    seed = 10\n",
    "    TARGET = 'limite_adicional'\n",
    "def seed_everything(seed):\n",
    "    random.seed(seed)\n",
    "    os.environ['PYTHONHASHSEED'] = str(seed)\n",
    "    np.random.seed(seed)\n",
    "\n",
    "seed_everything(seed = CFG.seed)"
   ]
  },
  {
   "cell_type": "markdown",
   "id": "16ecf1a1",
   "metadata": {},
   "source": [
    "# 3.0 Feature Engineering"
   ]
  },
  {
   "cell_type": "markdown",
   "id": "23ccdd48",
   "metadata": {},
   "source": [
    "## 3.1 Classical Features"
   ]
  },
  {
   "cell_type": "code",
   "execution_count": 4,
   "id": "9d0334a8",
   "metadata": {
    "ExecuteTime": {
     "end_time": "2022-10-24T12:55:54.716288Z",
     "start_time": "2022-10-24T12:55:54.713872Z"
    }
   },
   "outputs": [],
   "source": [
    "rs = RobustScaler()\n",
    "ss = StandardScaler()\n",
    "mm = MinMaxScaler()\n",
    "le = LabelEncoder()\n",
    "# te = TargetEncoder()"
   ]
  },
  {
   "cell_type": "code",
   "execution_count": 10,
   "id": "0a4fc17f",
   "metadata": {
    "ExecuteTime": {
     "end_time": "2022-10-24T14:54:35.387637Z",
     "start_time": "2022-10-24T14:54:35.381997Z"
    }
   },
   "outputs": [],
   "source": [
    "def create_features(df):\n",
    "    \"\"\"\n",
    "    Adds features to dfing or test set.   \n",
    "    \"\"\"\n",
    "    \n",
    "    ###################################### OUTLIER PROCESSING ######################################\n",
    "    \n",
    "#     df['renda_anual'] = df['renda_anual'].apply(lambda x: )    \n",
    "#     df[out_col] = ss.fit_transform(df[out_col])\n",
    "\n",
    "\n",
    "    ### FLOAT COLUMNS\n",
    "    \n",
    "#     df['saldo_atual'] = df['saldo_atual'].apply(lambda x: df[x].mean() if x == 337.17 else x)\n",
    "    df['renda_anual'] = df['renda_anual'].apply(lambda x: (200_000 + 3*38370) if x > 200_000 else x)\n",
    "    df['valor_em_investimentos'] = df['valor_em_investimentos'].apply(lambda x: 188.50 if x == 10_000 else x)\n",
    "    \n",
    "    \n",
    "#     df['saldo_atual'] = ss.fit_transform(df[['saldo_atual']].values)\n",
    "#     df['renda_anual'] = ss.fit_transform(df[['renda_anual']].values)\n",
    "#     df['valor_em_investimentos'] = ss.fit_transform(df[['valor_em_investimentos']].values)\n",
    "    \n",
    "    df['taxa_utilizacao_credito'] = ss.fit_transform(df[['taxa_utilizacao_credito']].values)\n",
    "       \n",
    "    ### INT COLUMNS\n",
    "    # Changed outliers for each df[col].median() without them, check EDA session.\n",
    "    \n",
    "    df['taxa_juros'] = df['taxa_juros'].apply(lambda x: 13 if x > 40 else x)\n",
    "    df['num_consultas_credito'] = df['num_consultas_credito'].apply(lambda x: 4 if x > 12 else x)\n",
    "    df['idade'] = df['idade'].apply(lambda x: 38 if x > 101 else x)\n",
    "    df['num_cartoes_credito'] = df['num_cartoes_credito'].apply(lambda x: 5 if x > 11 else x)\n",
    "    df['num_emprestimos'] = df['num_emprestimos'].apply(lambda x: 3 if x >= 100 else x) \n",
    "    df['num_contas_bancarias'] = df['num_contas_bancarias'].apply(lambda x: 6 if x > 11 else x)\n",
    "    df['num_pgtos_atrasados'] = df['num_pgtos_atrasados'].apply(lambda x: 14 if x > 28 else x)   \n",
    "    \n",
    "    \n",
    "    \n",
    "    ### Contabeis\n",
    "    \n",
    "#     df['saldo_ano'] = df['renda_anual'] - df['saldo_atual']\n",
    "#     df['potencial'] = df['saldo_atual'] / df['divida_atual']\n",
    "    \n",
    "    \n",
    "#     df['niveis_atraso'] = df['dias_atraso_dt_venc'].apply(lambda x: 'Ok'       if x <= 5 else \n",
    "#                                                                     'Atrasado' if x <= 30 else\n",
    "#                                                                     'Inadimplente' if x <= 60 else 'Critico')\n",
    "    \n",
    "        \n",
    "\n",
    "    ###################################### FEATURE ENGINEERING ######################################  \n",
    "    \n",
    "    df['investe_exterior'] = df['investe_exterior'].replace(['Não', 'Sim'], [0, 1])\n",
    "    df['pessoa_polit_exp'] = df['pessoa_polit_exp'].replace(['Não', 'Sim'], [0, 1])\n",
    "    df['limite_adicional'] = df['limite_adicional'].apply(lambda x: 0 if x == 'Negar' else 1)\n",
    "    \n",
    "    \n",
    "    \n",
    "#     df['idade_bucket'] = df['idade'].apply(lambda x: \"Jovem\" if x <= 25 else\n",
    "#                                                             \"Adulto\" if x <= 38 else\n",
    "#                                                              \"Coroa\" if x < 55 else \"Velho\")\n",
    "    \n",
    "    \n",
    "#     df['status'] = df['num_cartoes_credito'].apply(lambda x:    'Normal'       if x <= 4 else \n",
    "#                                                                 'Rico' if x <= 5 else\n",
    "#                                                                 'Playboy' if x <= 7 else 'Galatico')\n",
    "    \n",
    "\n",
    "    \n",
    "#     df = pd.get_dummies(df,prefix=['niveis_atraso'], columns=['niveis_atraso'], drop_first=False)\n",
    "#     df = pd.get_dummies(df,prefix=['status'], columns=['status'], drop_first=False)\n",
    "#     df = pd.get_dummies(df,prefix=['age'], columns=['idade_bucket'], drop_first=False)\n",
    "\n",
    "\n",
    "                                                                            \n",
    "#     df['renda_mensal'] = df['renda_anual'] / 12\n",
    "#     df['responsabilidade_cliente'] = df.apply(lambda x: 0 if x['renda_mensal'] < x['divida_atual'] else 1, axis = 1)\n",
    "    \n",
    "\n",
    "    \n",
    "    return df\n"
   ]
  },
  {
   "cell_type": "code",
   "execution_count": 11,
   "id": "16003cbf",
   "metadata": {
    "ExecuteTime": {
     "end_time": "2022-10-24T14:54:36.193698Z",
     "start_time": "2022-10-24T14:54:36.137561Z"
    }
   },
   "outputs": [
    {
     "name": "stdout",
     "output_type": "stream",
     "text": [
      "CPU times: user 46.7 ms, sys: 7.47 ms, total: 54.1 ms\n",
      "Wall time: 53.1 ms\n"
     ]
    }
   ],
   "source": [
    "%%time\n",
    "\n",
    "train = pd.read_csv('data/train.csv')\n",
    "test = pd.read_csv('data/test.csv')\n",
    "df_sub = test[['id_cliente']].copy()\n",
    "\n",
    "train['isTrain'] = True\n",
    "test['isTrain'] = False\n",
    "tt = pd.concat([train, test]).reset_index(drop=True).copy()\n",
    "tt = create_features(tt)\n",
    "train = tt.query('isTrain').reset_index(drop=True).copy()\n",
    "test = tt.query('isTrain == False').reset_index(drop=True).copy()"
   ]
  },
  {
   "cell_type": "code",
   "execution_count": 11,
   "id": "34f8569b",
   "metadata": {
    "ExecuteTime": {
     "end_time": "2022-10-24T02:22:50.787307Z",
     "start_time": "2022-10-24T02:22:50.784025Z"
    }
   },
   "outputs": [
    {
     "data": {
      "text/plain": [
       "((9500, 18), (3000, 18))"
      ]
     },
     "execution_count": 11,
     "metadata": {},
     "output_type": "execute_result"
    }
   ],
   "source": [
    "train.shape, test.shape"
   ]
  },
  {
   "cell_type": "markdown",
   "id": "5fe1a5bc",
   "metadata": {
    "heading_collapsed": true
   },
   "source": [
    "## 3.2 Agg Features"
   ]
  },
  {
   "cell_type": "markdown",
   "id": "4aa4a8c9",
   "metadata": {
    "hidden": true
   },
   "source": [
    "### Agg Float Cols"
   ]
  },
  {
   "cell_type": "code",
   "execution_count": 13,
   "id": "76e6cc16",
   "metadata": {
    "ExecuteTime": {
     "end_time": "2022-10-24T02:40:17.884808Z",
     "start_time": "2022-10-24T02:40:17.880703Z"
    },
    "hidden": true
   },
   "outputs": [
    {
     "data": {
      "text/plain": [
       "['saldo_atual',\n",
       " 'divida_atual',\n",
       " 'renda_anual',\n",
       " 'valor_em_investimentos',\n",
       " 'taxa_utilizacao_credito']"
      ]
     },
     "execution_count": 13,
     "metadata": {},
     "output_type": "execute_result"
    }
   ],
   "source": [
    "numerical_col = [col for col in train.columns if train[col].dtype == 'float64']\n",
    "numerical_col"
   ]
  },
  {
   "cell_type": "code",
   "execution_count": 14,
   "id": "69e11032",
   "metadata": {
    "ExecuteTime": {
     "end_time": "2022-10-24T02:40:18.115299Z",
     "start_time": "2022-10-24T02:40:18.102428Z"
    },
    "hidden": true
   },
   "outputs": [],
   "source": [
    "train_num_agg = train.groupby(\"id_cliente\")[numerical_col].agg(['mean', 'std', 'min', 'max'])\n",
    "train_num_agg.columns = ['_'.join(x) for x in train_num_agg.columns]"
   ]
  },
  {
   "cell_type": "code",
   "execution_count": 15,
   "id": "69006d5c",
   "metadata": {
    "ExecuteTime": {
     "end_time": "2022-10-24T02:40:19.260863Z",
     "start_time": "2022-10-24T02:40:19.257471Z"
    },
    "hidden": true
   },
   "outputs": [
    {
     "data": {
      "text/plain": [
       "((9500, 18), (9500, 20))"
      ]
     },
     "execution_count": 15,
     "metadata": {},
     "output_type": "execute_result"
    }
   ],
   "source": [
    "train.shape, train_num_agg.shape"
   ]
  },
  {
   "cell_type": "code",
   "execution_count": 16,
   "id": "d09536e1",
   "metadata": {
    "ExecuteTime": {
     "end_time": "2022-10-24T02:40:39.699747Z",
     "start_time": "2022-10-24T02:40:39.694227Z"
    },
    "hidden": true
   },
   "outputs": [],
   "source": [
    "train_aux = pd.merge(left=train, right=train_num_agg, how='left', on='id_cliente')"
   ]
  },
  {
   "cell_type": "code",
   "execution_count": 17,
   "id": "975906be",
   "metadata": {
    "ExecuteTime": {
     "end_time": "2022-10-24T02:40:39.890321Z",
     "start_time": "2022-10-24T02:40:39.884923Z"
    },
    "hidden": true
   },
   "outputs": [],
   "source": [
    "train_aux.dropna(axis=1, inplace=True)"
   ]
  },
  {
   "cell_type": "code",
   "execution_count": 18,
   "id": "2b17c85f",
   "metadata": {
    "ExecuteTime": {
     "end_time": "2022-10-24T02:40:46.246465Z",
     "start_time": "2022-10-24T02:40:46.236839Z"
    },
    "hidden": true
   },
   "outputs": [],
   "source": [
    "test_num_agg = test.groupby(\"id_cliente\")[numerical_col].agg(['mean', 'std', 'min', 'max'])\n",
    "test_num_agg.columns = ['_'.join(x) for x in test_num_agg.columns]"
   ]
  },
  {
   "cell_type": "code",
   "execution_count": 19,
   "id": "10625d3d",
   "metadata": {
    "ExecuteTime": {
     "end_time": "2022-10-24T02:40:46.432966Z",
     "start_time": "2022-10-24T02:40:46.428828Z"
    },
    "hidden": true
   },
   "outputs": [],
   "source": [
    "test_aux = pd.merge(left=test, right=test_num_agg, how='left', on='id_cliente')"
   ]
  },
  {
   "cell_type": "code",
   "execution_count": 20,
   "id": "3c7bee86",
   "metadata": {
    "ExecuteTime": {
     "end_time": "2022-10-24T02:40:46.841661Z",
     "start_time": "2022-10-24T02:40:46.837039Z"
    },
    "hidden": true
   },
   "outputs": [],
   "source": [
    "test_aux.dropna(axis=1, inplace=True)"
   ]
  },
  {
   "cell_type": "code",
   "execution_count": 21,
   "id": "64a92233",
   "metadata": {
    "ExecuteTime": {
     "end_time": "2022-10-24T02:40:48.796301Z",
     "start_time": "2022-10-24T02:40:48.792919Z"
    },
    "hidden": true
   },
   "outputs": [
    {
     "data": {
      "text/plain": [
       "((9500, 33), (3000, 33))"
      ]
     },
     "execution_count": 21,
     "metadata": {},
     "output_type": "execute_result"
    }
   ],
   "source": [
    "train_aux.shape, test_aux.shape"
   ]
  },
  {
   "cell_type": "markdown",
   "id": "394d70ba",
   "metadata": {
    "hidden": true
   },
   "source": [
    "### Agg Categorical Cols"
   ]
  },
  {
   "cell_type": "code",
   "execution_count": 4,
   "id": "8a7897ff",
   "metadata": {
    "ExecuteTime": {
     "end_time": "2022-10-24T02:22:26.166342Z",
     "start_time": "2022-10-24T02:22:26.164132Z"
    },
    "hidden": true
   },
   "outputs": [],
   "source": [
    "# train_cat_agg = train.groupby(\"customer_ID\")[cat_features].agg(['count', 'last', 'nunique'])\n",
    "# train_cat_agg.columns = ['_'.join(x) for x in train_cat_agg.columns]"
   ]
  },
  {
   "cell_type": "code",
   "execution_count": 5,
   "id": "d72b448b",
   "metadata": {
    "ExecuteTime": {
     "end_time": "2022-10-24T02:22:26.552450Z",
     "start_time": "2022-10-24T02:22:26.550203Z"
    },
    "hidden": true
   },
   "outputs": [],
   "source": [
    "# train_aux2 = pd.merge(left=train, right=train_cat_agg, how='left', on='id_cliente')"
   ]
  },
  {
   "cell_type": "markdown",
   "id": "151e5c5e",
   "metadata": {},
   "source": [
    "# 4.0 Modeling"
   ]
  },
  {
   "cell_type": "markdown",
   "id": "1b7fb413",
   "metadata": {
    "heading_collapsed": true
   },
   "source": [
    "## 4.1 Feature Selection"
   ]
  },
  {
   "cell_type": "code",
   "execution_count": 22,
   "id": "5f5eea58",
   "metadata": {
    "ExecuteTime": {
     "end_time": "2022-10-24T02:40:54.104288Z",
     "start_time": "2022-10-24T02:40:54.101514Z"
    },
    "hidden": true
   },
   "outputs": [],
   "source": [
    "# X = train.copy()\n",
    "# y = train['limite_adicional']\n",
    "\n",
    "X = train_aux.copy()\n",
    "y = train_aux['limite_adicional']"
   ]
  },
  {
   "cell_type": "code",
   "execution_count": 24,
   "id": "3934a8d4",
   "metadata": {
    "ExecuteTime": {
     "end_time": "2022-10-24T02:40:55.185391Z",
     "start_time": "2022-10-24T02:40:55.181310Z"
    },
    "hidden": true
   },
   "outputs": [
    {
     "name": "stdout",
     "output_type": "stream",
     "text": [
      "Using ...\n",
      "\n",
      "...27 features.\n",
      "\n"
     ]
    }
   ],
   "source": [
    "FEATURES = [\n",
    "#        'id_cliente',\n",
    "    'idade', \n",
    "    'saldo_atual',\n",
    "    'divida_atual',\n",
    "    'renda_anual',\n",
    "    'valor_em_investimentos', \n",
    "    'taxa_utilizacao_credito', \n",
    "    'num_emprestimos',\n",
    "    'num_contas_bancarias', \n",
    "    'num_cartoes_credito', \n",
    "    'dias_atraso_dt_venc',\n",
    "    'num_pgtos_atrasados', \n",
    "    'num_consultas_credito', \n",
    "    'taxa_juros',\n",
    "    'investe_exterior', \n",
    "    'pessoa_polit_exp', \n",
    "#        'limite_adicional', \n",
    "#        'isTrain',\n",
    "   'saldo_atual_mean',\n",
    "    'saldo_atual_min', \n",
    "    'saldo_atual_max',\n",
    "   'divida_atual_mean', \n",
    "    'divida_atual_min', \n",
    "    'divida_atual_max',\n",
    "   'renda_anual_mean', \n",
    "    'renda_anual_min', \n",
    "    'renda_anual_max',\n",
    "   'valor_em_investimentos_mean', \n",
    "    'valor_em_investimentos_min',\n",
    "   'valor_em_investimentos_max', \n",
    "]\n",
    "\n",
    "TARGET = 'limite_adicional'\n",
    "ESTIMATORS = 500\n",
    "\n",
    "n_features = len(FEATURES)\n",
    "\n",
    "print('Using ...')\n",
    "print('')\n",
    "print(f'{n_features:.>5} features.')\n",
    "print('')"
   ]
  },
  {
   "cell_type": "markdown",
   "id": "aaf82842",
   "metadata": {
    "heading_collapsed": true
   },
   "source": [
    "## 4.2 First Impressions "
   ]
  },
  {
   "cell_type": "markdown",
   "id": "136dcdb6",
   "metadata": {
    "hidden": true
   },
   "source": [
    "Checking which model performs best with just a simple train/test split of 20% for test_size."
   ]
  },
  {
   "cell_type": "code",
   "execution_count": 183,
   "id": "f78a6bc9",
   "metadata": {
    "ExecuteTime": {
     "end_time": "2022-10-22T22:34:34.888164Z",
     "start_time": "2022-10-22T22:34:34.884860Z"
    },
    "hidden": true
   },
   "outputs": [],
   "source": [
    "train['limite_adicional'] = train['limite_adicional'].replace(['Negar', 'Conceder'], [0, 1])"
   ]
  },
  {
   "cell_type": "code",
   "execution_count": null,
   "id": "e4b0b9e1",
   "metadata": {
    "ExecuteTime": {
     "end_time": "2022-10-22T14:46:35.983347Z",
     "start_time": "2022-10-22T14:46:35.974781Z"
    },
    "hidden": true
   },
   "outputs": [],
   "source": [
    "X['investe_exterior'] = X['investe_exterior'].replace(['Não', 'Sim'], [0, 1])\n",
    "X['pessoa_polit_exp'] = X['pessoa_polit_exp'].replace(['Não', 'Sim'], [0, 1])\n",
    "X['limite_adicional'] = X['limite_adicional'].replace(['Negar', 'Conceder'], [0, 1])"
   ]
  },
  {
   "cell_type": "code",
   "execution_count": null,
   "id": "c4cd6d5f",
   "metadata": {
    "ExecuteTime": {
     "end_time": "2022-10-22T14:49:06.681573Z",
     "start_time": "2022-10-22T14:49:06.673448Z"
    },
    "hidden": true
   },
   "outputs": [],
   "source": [
    "X_train, X_test, y_train, y_test = train_test_split(X[FEATURES], y, stratify = y, test_size=.2, random_state=CFG.seed)"
   ]
  },
  {
   "cell_type": "code",
   "execution_count": null,
   "id": "18899bc4",
   "metadata": {
    "ExecuteTime": {
     "end_time": "2022-10-22T14:46:48.344094Z",
     "start_time": "2022-10-22T14:46:48.336545Z"
    },
    "hidden": true
   },
   "outputs": [],
   "source": [
    "X.head()"
   ]
  },
  {
   "cell_type": "code",
   "execution_count": null,
   "id": "3f9dc28a",
   "metadata": {
    "ExecuteTime": {
     "end_time": "2022-10-22T14:46:47.312123Z",
     "start_time": "2022-10-22T14:46:47.308430Z"
    },
    "hidden": true
   },
   "outputs": [],
   "source": [
    "y.head()"
   ]
  },
  {
   "cell_type": "code",
   "execution_count": null,
   "id": "dfcdf908",
   "metadata": {
    "ExecuteTime": {
     "end_time": "2022-10-22T14:51:12.794615Z",
     "start_time": "2022-10-22T14:51:12.734232Z"
    },
    "hidden": true
   },
   "outputs": [],
   "source": [
    "logreg = LogisticRegression()\n",
    "\n",
    "logreg.fit(X_train, y_train)\n",
    "y_pred = logreg.predict(X_test)\n",
    "\n",
    "score    = roc_auc_score(y_test, y_pred)\n",
    "f1       = f1_score(y_test, y_pred, average='weighted')\n",
    "acc      = accuracy_score(y_test, y_pred)\n",
    "\n",
    "\n",
    "print(f'')\n",
    "print(f'Average Accuracy = {acc:.5f}' )\n",
    "print(f'Average AUC = {score:.5f}')\n",
    "print(f'Average F1-Score = {f1:.5f}')"
   ]
  },
  {
   "cell_type": "code",
   "execution_count": null,
   "id": "31a85961",
   "metadata": {
    "ExecuteTime": {
     "end_time": "2022-10-22T14:54:56.456615Z",
     "start_time": "2022-10-22T14:54:56.292680Z"
    },
    "hidden": true
   },
   "outputs": [],
   "source": [
    "model_xgb = xgb.XGBClassifier(n_estimators=200)\n",
    "\n",
    "model_xgb.fit(X_train, y_train)\n",
    "y_pred = model_xgb.predict(X_test)\n",
    "\n",
    "score    = roc_auc_score(y_test, y_pred)\n",
    "f1       = f1_score(y_test, y_pred, average='weighted')\n",
    "acc      = accuracy_score(y_test, y_pred)\n",
    "\n",
    "\n",
    "print(f'')\n",
    "print(f'Average Accuracy = {acc:.5f}' )\n",
    "print(f'Average AUC = {score:.5f}')\n",
    "print(f'Average F1-Score = {f1:.5f}')"
   ]
  },
  {
   "cell_type": "code",
   "execution_count": null,
   "id": "128c160f",
   "metadata": {
    "ExecuteTime": {
     "end_time": "2022-10-22T14:54:56.456615Z",
     "start_time": "2022-10-22T14:54:56.292680Z"
    },
    "hidden": true
   },
   "outputs": [],
   "source": [
    "model_lgbm = lgbm.LGBMClassifier(n_estimators=200)\n",
    "\n",
    "model_lgbm.fit(X_train, y_train)\n",
    "y_pred = logreg.predict(X_test)\n",
    "\n",
    "score    = roc_auc_score(y_test, y_pred)\n",
    "f1       = f1_score(y_test, y_pred, average='weighted')\n",
    "acc      = accuracy_score(y_test, y_pred)\n",
    "\n",
    "\n",
    "print(f'')\n",
    "print(f'Average Accuracy = {acc:.5f}' )\n",
    "print(f'Average AUC = {score:.5f}')\n",
    "print(f'Average F1-Score = {f1:.5f}')"
   ]
  },
  {
   "cell_type": "code",
   "execution_count": null,
   "id": "40b13da9",
   "metadata": {
    "ExecuteTime": {
     "end_time": "2022-10-22T15:02:18.523709Z",
     "start_time": "2022-10-22T15:02:18.218725Z"
    },
    "hidden": true
   },
   "outputs": [],
   "source": [
    "model_cat = cb.CatBoostClassifier(iterations=200)\n",
    "\n",
    "model_cat.fit(X_train, y_train, verbose=False)\n",
    "y_pred = model_cat.predict(X_test)\n",
    "\n",
    "score    = roc_auc_score(y_test, y_pred)\n",
    "f1       = f1_score(y_test, y_pred, average='weighted')\n",
    "acc      = accuracy_score(y_test, y_pred)\n",
    "\n",
    "\n",
    "print(f'')\n",
    "print(f'Average Accuracy = {acc:.5f}' )\n",
    "print(f'Average AUC = {score:.5f}')\n",
    "print(f'Average F1-Score = {f1:.5f}')"
   ]
  },
  {
   "cell_type": "code",
   "execution_count": null,
   "id": "d9a47fc0",
   "metadata": {
    "ExecuteTime": {
     "end_time": "2022-10-22T15:07:29.188546Z",
     "start_time": "2022-10-22T15:07:28.559740Z"
    },
    "hidden": true
   },
   "outputs": [],
   "source": [
    "model_rf = RandomForestClassifier()\n",
    "\n",
    "model_rf.fit(X_train, y_train)\n",
    "y_pred = model_rf.predict(X_test)\n",
    "\n",
    "score    = roc_auc_score(y_test, y_pred)\n",
    "f1       = f1_score(y_test, y_pred, average='weighted')\n",
    "acc      = accuracy_score(y_test, y_pred)\n",
    "\n",
    "\n",
    "print(f'')\n",
    "print(f'Average Accuracy = {acc:.5f}' )\n",
    "print(f'Average AUC = {score:.5f}')\n",
    "print(f'Average F1-Score = {f1:.5f}')"
   ]
  },
  {
   "cell_type": "code",
   "execution_count": null,
   "id": "b61fb3b8",
   "metadata": {
    "hidden": true
   },
   "outputs": [],
   "source": []
  },
  {
   "cell_type": "markdown",
   "id": "06c2a41f",
   "metadata": {},
   "source": [
    "## 4.3 XGB"
   ]
  },
  {
   "cell_type": "code",
   "execution_count": 44,
   "id": "6b23135c",
   "metadata": {
    "ExecuteTime": {
     "end_time": "2022-10-24T02:59:14.389476Z",
     "start_time": "2022-10-24T02:58:54.966082Z"
    },
    "scrolled": true
   },
   "outputs": [
    {
     "name": "stdout",
     "output_type": "stream",
     "text": [
      "Fold: 0\n",
      "AUC = 0.91040 F1-Score: 0.86740\n",
      "Fold: 1\n",
      "AUC = 0.93930 F1-Score: 0.87675\n",
      "Fold: 2\n",
      "AUC = 0.93069 F1-Score: 0.88056\n",
      "Fold: 3\n",
      "AUC = 0.92987 F1-Score: 0.87177\n",
      "Fold: 4\n",
      "AUC = 0.92144 F1-Score: 0.86319\n",
      "\n",
      "Average AUC = 0.92634\n",
      "Average F1-Score = 0.87193\n",
      "\n",
      "CPU times: user 3min 44s, sys: 692 ms, total: 3min 45s\n",
      "Wall time: 19.4 s\n"
     ]
    }
   ],
   "source": [
    "%%time\n",
    "\n",
    "f1s = []\n",
    "aucs = []\n",
    "preds_test = []\n",
    "importances = []\n",
    "\n",
    "# using StratifiedKFold cause data is imbalanced\n",
    "kf = StratifiedKFold(n_splits=CFG.FOLDS, shuffle=True, random_state=CFG.seed)\n",
    "\n",
    "for fold, (tr_idx, val_idx) in enumerate(kf.split(X[FEATURES], X[TARGET])):\n",
    "    print('Fold:', fold)\n",
    "    \n",
    "    # split train/val\n",
    "    X_tr = X.loc[tr_idx, FEATURES]\n",
    "    y_tr = X.loc[tr_idx, TARGET]\n",
    "    X_va = X.loc[val_idx, FEATURES]\n",
    "    y_va = X.loc[val_idx, TARGET]\n",
    "    \n",
    "\n",
    "    # MODEL\n",
    "    model_xgb = xgb.XGBClassifier(\n",
    "        reg_lambda= 0.7103261259878902, \n",
    "         alpha= 3.818812772685153, \n",
    "         colsample_bytree= 0.8, \n",
    "         subsample= 0.75, \n",
    "         learning_rate= 0.008, \n",
    "         n_estimators= 1000, \n",
    "         max_depth= 12, \n",
    "         min_child_weight= 7,\n",
    "        n_jobs=-1\n",
    "    )\n",
    "\n",
    "    \n",
    "    model_xgb.fit(X_tr, y_tr)\n",
    "                                    \n",
    "    # Validate model\n",
    "    va_preds = model_xgb.predict_proba(X_va)[:, 1]\n",
    "    vaf1_preds = model_xgb.predict(X_va)\n",
    "    score    = roc_auc_score(y_va, va_preds)\n",
    "    f1       = f1_score(y_va, vaf1_preds, average='weighted')\n",
    "    print(f\"AUC = {score:.5f} F1-Score: {f1:.5f}\")\n",
    "    aucs.append(score)\n",
    "    f1s.append(f1)\n",
    "    \n",
    "    # Test set predictions\n",
    "    preds_test.append(model_xgb.predict(test_aux[FEATURES]))\n",
    "    df_sub[f'fold_{fold}'] = preds_test[fold]\n",
    "    \n",
    "    # Feature Importances\n",
    "    importances.append(model_xgb.feature_importances_)\n",
    "    \n",
    "    \n",
    "    ### free memory\n",
    "#     del X_tr, y_tr\n",
    "#     del X_va, y_va\n",
    "    gc.collect()\n",
    "\n",
    "    \n",
    "    \n",
    "print(f'\\nAverage AUC = {sum(aucs) / len(aucs):.5f}')\n",
    "print(f'Average F1-Score = {sum(f1s) / len(f1s):.5f}' )\n",
    "print('')\n",
    "preds_xgb = sum(preds_test)/len(preds_test)"
   ]
  },
  {
   "cell_type": "code",
   "execution_count": 26,
   "id": "26093bb8",
   "metadata": {
    "ExecuteTime": {
     "end_time": "2022-10-24T02:44:13.350823Z",
     "start_time": "2022-10-24T02:44:13.347514Z"
    }
   },
   "outputs": [],
   "source": [
    "fpr, tpr, thresholds = roc_curve(y_va, va_preds)"
   ]
  },
  {
   "cell_type": "code",
   "execution_count": 45,
   "id": "2a1540f0",
   "metadata": {
    "ExecuteTime": {
     "end_time": "2022-10-24T02:59:22.115370Z",
     "start_time": "2022-10-24T02:59:22.111989Z"
    }
   },
   "outputs": [
    {
     "data": {
      "text/plain": [
       "0.4102012"
      ]
     },
     "execution_count": 45,
     "metadata": {},
     "output_type": "execute_result"
    }
   ],
   "source": [
    "np.mean(thresholds)"
   ]
  },
  {
   "cell_type": "code",
   "execution_count": 46,
   "id": "5f881561",
   "metadata": {
    "ExecuteTime": {
     "end_time": "2022-10-24T02:59:25.678173Z",
     "start_time": "2022-10-24T02:59:25.571949Z"
    },
    "hide_input": false
   },
   "outputs": [
    {
     "name": "stdout",
     "output_type": "stream",
     "text": [
      "\u001b[36m\u001b[1mAverage AUC = 0.92634\n",
      "Average F1-Score = 0.87193\u001b[0m\n"
     ]
    },
    {
     "data": {
      "image/png": "[encoded data removed]",
      "text/plain": [
       "<Figure size 1008x288 with 1 Axes>"
      ]
     },
     "metadata": {},
     "output_type": "display_data"
    }
   ],
   "source": [
    "print(f\"{Fore.CYAN}{Style.BRIGHT}Average AUC = {sum(aucs) / len(aucs):.5f}\\nAverage F1-Score = {sum(f1s) / len(f1s):.5f}{Style.RESET_ALL}\")\n",
    "\n",
    "if type(model_xgb).__name__ == 'XGBClassifier':\n",
    "    # Show feature importances\n",
    "    importance_df = pd.DataFrame(np.array(importances).T, index=FEATURES)\n",
    "    importance_df['mean'] = importance_df.mean(axis=1).abs()\n",
    "    importance_df['feature'] = FEATURES\n",
    "    importance_df = importance_df.sort_values('mean', ascending=False).reset_index().head(10)\n",
    "    plt.figure(figsize=(14, 4))\n",
    "    plt.barh(importance_df.index, importance_df['mean'], color='cyan')\n",
    "    plt.gca().invert_yaxis()\n",
    "    plt.yticks(ticks=importance_df.index, labels=importance_df['feature'])\n",
    "    plt.title('XGB Feature Importances')\n",
    "    plt.show()\n",
    "# else:\n",
    "#     importance_df = pd.DataFrame(np.array(importances).T, index=FEATURES)\n",
    "#     importance_df['mean'] = importance_df.mean(axis=1).abs()\n",
    "#     importance_df['feature'] = FEATURES\n",
    "#     importance_df = importance_df.sort_values('mean', ascending=False).reset_index().head(15)\n",
    "#     plt.figure(figsize=(14, 4))\n",
    "#     plt.barh(importance_df.index, importance_df['mean'], color='cyan')\n",
    "#     plt.gca().invert_yaxis()\n",
    "#     plt.yticks(ticks=importance_df.index, labels=importance_df['feature'])\n",
    "#     plt.title('Feature Importances')\n",
    "#     plt.show()"
   ]
  },
  {
   "cell_type": "markdown",
   "id": "4274ad64",
   "metadata": {
    "heading_collapsed": true
   },
   "source": [
    "### 4.3.1 Optuna - XGB"
   ]
  },
  {
   "cell_type": "code",
   "execution_count": 268,
   "id": "e562a04b",
   "metadata": {
    "ExecuteTime": {
     "end_time": "2022-10-22T23:09:45.057974Z",
     "start_time": "2022-10-22T23:03:07.914339Z"
    },
    "hidden": true
   },
   "outputs": [
    {
     "name": "stderr",
     "output_type": "stream",
     "text": [
      "\u001b[32m[I 2022-10-22 20:03:07,918]\u001b[0m A new study created in memory with name: no-name-5896a655-77e3-468c-9f55-48ef2df1162b\u001b[0m\n",
      "\u001b[32m[I 2022-10-22 20:03:30,132]\u001b[0m Trial 0 finished with value: 0.8667562058406715 and parameters: {'lambda': 0.11077359948806617, 'alpha': 0.06165216314386818, 'colsample_bytree': 0.8, 'subsample': 0.8, 'learning_rate': 0.008, 'n_estimators': 2766, 'max_depth': 11, 'min_child_weight': 31}. Best is trial 0 with value: 0.8667562058406715.\u001b[0m\n"
     ]
    },
    {
     "name": "stdout",
     "output_type": "stream",
     "text": [
      "F1 Score Average: 0.8667562058406715\n"
     ]
    },
    {
     "name": "stderr",
     "output_type": "stream",
     "text": [
      "\u001b[32m[I 2022-10-22 20:03:35,221]\u001b[0m Trial 1 finished with value: 0.8623304284116303 and parameters: {'lambda': 0.010666535726107708, 'alpha': 0.807992085618941, 'colsample_bytree': 0.5, 'subsample': 0.7, 'learning_rate': 0.012, 'n_estimators': 878, 'max_depth': 11, 'min_child_weight': 70}. Best is trial 0 with value: 0.8667562058406715.\u001b[0m\n"
     ]
    },
    {
     "name": "stdout",
     "output_type": "stream",
     "text": [
      "F1 Score Average: 0.8623304284116303\n"
     ]
    },
    {
     "name": "stderr",
     "output_type": "stream",
     "text": [
      "\u001b[32m[I 2022-10-22 20:03:44,251]\u001b[0m Trial 2 finished with value: 0.849516132674837 and parameters: {'lambda': 0.0629075534772257, 'alpha': 0.0016845997718819108, 'colsample_bytree': 0.3, 'subsample': 0.7, 'learning_rate': 0.02, 'n_estimators': 2945, 'max_depth': 15, 'min_child_weight': 127}. Best is trial 0 with value: 0.8667562058406715.\u001b[0m\n"
     ]
    },
    {
     "name": "stdout",
     "output_type": "stream",
     "text": [
      "F1 Score Average: 0.849516132674837\n"
     ]
    },
    {
     "name": "stderr",
     "output_type": "stream",
     "text": [
      "\u001b[32m[I 2022-10-22 20:03:53,487]\u001b[0m Trial 3 finished with value: 0.8491729927652825 and parameters: {'lambda': 3.214367321125314, 'alpha': 0.0014797044019375656, 'colsample_bytree': 0.5, 'subsample': 0.8, 'learning_rate': 0.016, 'n_estimators': 2820, 'max_depth': 7, 'min_child_weight': 161}. Best is trial 0 with value: 0.8667562058406715.\u001b[0m\n"
     ]
    },
    {
     "name": "stdout",
     "output_type": "stream",
     "text": [
      "F1 Score Average: 0.8491729927652825\n"
     ]
    },
    {
     "name": "stderr",
     "output_type": "stream",
     "text": [
      "\u001b[32m[I 2022-10-22 20:03:56,878]\u001b[0m Trial 4 finished with value: 0.8317913728405149 and parameters: {'lambda': 1.4961516677578546, 'alpha': 0.019739970163628363, 'colsample_bytree': 0.3, 'subsample': 0.8, 'learning_rate': 0.016, 'n_estimators': 1142, 'max_depth': 15, 'min_child_weight': 262}. Best is trial 0 with value: 0.8667562058406715.\u001b[0m\n"
     ]
    },
    {
     "name": "stdout",
     "output_type": "stream",
     "text": [
      "F1 Score Average: 0.8317913728405149\n"
     ]
    },
    {
     "name": "stderr",
     "output_type": "stream",
     "text": [
      "\u001b[32m[I 2022-10-22 20:04:04,978]\u001b[0m Trial 5 finished with value: 0.8467108504729699 and parameters: {'lambda': 0.014512982775586538, 'alpha': 0.0014129012792161054, 'colsample_bytree': 0.4, 'subsample': 0.7, 'learning_rate': 0.012, 'n_estimators': 2701, 'max_depth': 5, 'min_child_weight': 149}. Best is trial 0 with value: 0.8667562058406715.\u001b[0m\n"
     ]
    },
    {
     "name": "stdout",
     "output_type": "stream",
     "text": [
      "F1 Score Average: 0.8467108504729699\n"
     ]
    },
    {
     "name": "stderr",
     "output_type": "stream",
     "text": [
      "\u001b[32m[I 2022-10-22 20:04:07,737]\u001b[0m Trial 6 finished with value: 0.8409545169807909 and parameters: {'lambda': 0.08883114551605924, 'alpha': 0.002039169908665134, 'colsample_bytree': 0.8, 'subsample': 0.7, 'learning_rate': 0.018, 'n_estimators': 677, 'max_depth': 7, 'min_child_weight': 170}. Best is trial 0 with value: 0.8667562058406715.\u001b[0m\n"
     ]
    },
    {
     "name": "stdout",
     "output_type": "stream",
     "text": [
      "F1 Score Average: 0.8409545169807909\n"
     ]
    },
    {
     "name": "stderr",
     "output_type": "stream",
     "text": [
      "\u001b[32m[I 2022-10-22 20:04:12,046]\u001b[0m Trial 7 finished with value: 0.8588084433312245 and parameters: {'lambda': 0.13432302660171946, 'alpha': 0.002137475011451943, 'colsample_bytree': 0.5, 'subsample': 0.4, 'learning_rate': 0.05, 'n_estimators': 1096, 'max_depth': 13, 'min_child_weight': 47}. Best is trial 0 with value: 0.8667562058406715.\u001b[0m\n"
     ]
    },
    {
     "name": "stdout",
     "output_type": "stream",
     "text": [
      "F1 Score Average: 0.8588084433312245\n"
     ]
    },
    {
     "name": "stderr",
     "output_type": "stream",
     "text": [
      "\u001b[32m[I 2022-10-22 20:04:18,239]\u001b[0m Trial 8 finished with value: 0.768374211572441 and parameters: {'lambda': 0.04884196622994796, 'alpha': 0.014659406514498912, 'colsample_bytree': 0.9, 'subsample': 0.5, 'learning_rate': 0.01, 'n_estimators': 2494, 'max_depth': 7, 'min_child_weight': 252}. Best is trial 0 with value: 0.8667562058406715.\u001b[0m\n"
     ]
    },
    {
     "name": "stdout",
     "output_type": "stream",
     "text": [
      "F1 Score Average: 0.768374211572441\n"
     ]
    },
    {
     "name": "stderr",
     "output_type": "stream",
     "text": [
      "\u001b[32m[I 2022-10-22 20:04:24,831]\u001b[0m Trial 9 finished with value: 0.768374211572441 and parameters: {'lambda': 0.08376116712527523, 'alpha': 0.06549230479605397, 'colsample_bytree': 0.9, 'subsample': 0.5, 'learning_rate': 0.08, 'n_estimators': 2818, 'max_depth': 11, 'min_child_weight': 293}. Best is trial 0 with value: 0.8667562058406715.\u001b[0m\n"
     ]
    },
    {
     "name": "stdout",
     "output_type": "stream",
     "text": [
      "F1 Score Average: 0.768374211572441\n"
     ]
    },
    {
     "name": "stderr",
     "output_type": "stream",
     "text": [
      "\u001b[32m[I 2022-10-22 20:04:47,916]\u001b[0m Trial 10 finished with value: 0.8677244222957535 and parameters: {'lambda': 0.7043256414727058, 'alpha': 6.796620279844995, 'colsample_bytree': 0.8, 'subsample': 0.6, 'learning_rate': 0.008, 'n_estimators': 1958, 'max_depth': 17, 'min_child_weight': 3}. Best is trial 10 with value: 0.8677244222957535.\u001b[0m\n"
     ]
    },
    {
     "name": "stdout",
     "output_type": "stream",
     "text": [
      "F1 Score Average: 0.8677244222957535\n"
     ]
    },
    {
     "name": "stderr",
     "output_type": "stream",
     "text": [
      "\u001b[32m[I 2022-10-22 20:05:20,307]\u001b[0m Trial 11 finished with value: 0.8663222054332034 and parameters: {'lambda': 0.6722331753408978, 'alpha': 3.2701604071071078, 'colsample_bytree': 0.8, 'subsample': 0.6, 'learning_rate': 0.008, 'n_estimators': 2037, 'max_depth': 17, 'min_child_weight': 1}. Best is trial 10 with value: 0.8677244222957535.\u001b[0m\n"
     ]
    },
    {
     "name": "stdout",
     "output_type": "stream",
     "text": [
      "F1 Score Average: 0.8663222054332034\n"
     ]
    },
    {
     "name": "stderr",
     "output_type": "stream",
     "text": [
      "\u001b[32m[I 2022-10-22 20:06:02,221]\u001b[0m Trial 12 finished with value: 0.8624393629945866 and parameters: {'lambda': 0.0014711629873093216, 'alpha': 0.35631967706472495, 'colsample_bytree': 0.6, 'subsample': 1.0, 'learning_rate': 0.008, 'n_estimators': 1925, 'max_depth': 17, 'min_child_weight': 3}. Best is trial 10 with value: 0.8677244222957535.\u001b[0m\n"
     ]
    },
    {
     "name": "stdout",
     "output_type": "stream",
     "text": [
      "F1 Score Average: 0.8624393629945866\n"
     ]
    },
    {
     "name": "stderr",
     "output_type": "stream",
     "text": [
      "\u001b[32m[I 2022-10-22 20:06:14,284]\u001b[0m Trial 13 finished with value: 0.8621246527250012 and parameters: {'lambda': 0.5057473871649111, 'alpha': 7.465053157232862, 'colsample_bytree': 0.8, 'subsample': 0.6, 'learning_rate': 0.008, 'n_estimators': 2148, 'max_depth': 9, 'min_child_weight': 66}. Best is trial 10 with value: 0.8677244222957535.\u001b[0m\n"
     ]
    },
    {
     "name": "stdout",
     "output_type": "stream",
     "text": [
      "F1 Score Average: 0.8621246527250012\n"
     ]
    },
    {
     "name": "stderr",
     "output_type": "stream",
     "text": [
      "\u001b[32m[I 2022-10-22 20:06:15,246]\u001b[0m Trial 14 finished with value: 0.8277621065218679 and parameters: {'lambda': 9.687785507961296, 'alpha': 0.18807548692011927, 'colsample_bytree': 1.0, 'subsample': 0.6, 'learning_rate': 0.008, 'n_estimators': 103, 'max_depth': 17, 'min_child_weight': 94}. Best is trial 10 with value: 0.8677244222957535.\u001b[0m\n"
     ]
    },
    {
     "name": "stdout",
     "output_type": "stream",
     "text": [
      "F1 Score Average: 0.8277621065218679\n"
     ]
    },
    {
     "name": "stderr",
     "output_type": "stream",
     "text": [
      "\u001b[32m[I 2022-10-22 20:06:27,213]\u001b[0m Trial 15 finished with value: 0.8656157238813821 and parameters: {'lambda': 0.2998739708132247, 'alpha': 0.05145624444393042, 'colsample_bytree': 0.7, 'subsample': 0.8, 'learning_rate': 0.03, 'n_estimators': 1492, 'max_depth': 11, 'min_child_weight': 33}. Best is trial 10 with value: 0.8677244222957535.\u001b[0m\n"
     ]
    },
    {
     "name": "stdout",
     "output_type": "stream",
     "text": [
      "F1 Score Average: 0.8656157238813821\n"
     ]
    },
    {
     "name": "stderr",
     "output_type": "stream",
     "text": [
      "\u001b[32m[I 2022-10-22 20:06:38,720]\u001b[0m Trial 16 finished with value: 0.8614753176323411 and parameters: {'lambda': 0.024889141543859742, 'alpha': 1.0267761739907948, 'colsample_bytree': 0.8, 'subsample': 1.0, 'learning_rate': 0.008, 'n_estimators': 2347, 'max_depth': 5, 'min_child_weight': 108}. Best is trial 10 with value: 0.8677244222957535.\u001b[0m\n"
     ]
    },
    {
     "name": "stdout",
     "output_type": "stream",
     "text": [
      "F1 Score Average: 0.8614753176323411\n"
     ]
    },
    {
     "name": "stderr",
     "output_type": "stream",
     "text": [
      "\u001b[32m[I 2022-10-22 20:06:47,765]\u001b[0m Trial 17 finished with value: 0.8622811924986925 and parameters: {'lambda': 0.002174043784507874, 'alpha': 0.009833972632207713, 'colsample_bytree': 0.8, 'subsample': 0.4, 'learning_rate': 0.014, 'n_estimators': 1648, 'max_depth': 9, 'min_child_weight': 31}. Best is trial 10 with value: 0.8677244222957535.\u001b[0m\n"
     ]
    },
    {
     "name": "stdout",
     "output_type": "stream",
     "text": [
      "F1 Score Average: 0.8622811924986925\n"
     ]
    },
    {
     "name": "stderr",
     "output_type": "stream",
     "text": [
      "\u001b[32m[I 2022-10-22 20:06:56,993]\u001b[0m Trial 18 finished with value: 0.8638973420060028 and parameters: {'lambda': 0.23870458307249623, 'alpha': 9.768220967620689, 'colsample_bytree': 0.7, 'subsample': 0.8, 'learning_rate': 0.01, 'n_estimators': 1703, 'max_depth': 13, 'min_child_weight': 85}. Best is trial 10 with value: 0.8677244222957535.\u001b[0m\n"
     ]
    },
    {
     "name": "stdout",
     "output_type": "stream",
     "text": [
      "F1 Score Average: 0.8638973420060028\n"
     ]
    },
    {
     "name": "stderr",
     "output_type": "stream",
     "text": [
      "\u001b[32m[I 2022-10-22 20:07:04,374]\u001b[0m Trial 19 finished with value: 0.834257516082071 and parameters: {'lambda': 1.2256195397197016, 'alpha': 1.826002368427969, 'colsample_bytree': 1.0, 'subsample': 0.6, 'learning_rate': 0.08, 'n_estimators': 2351, 'max_depth': 17, 'min_child_weight': 198}. Best is trial 10 with value: 0.8677244222957535.\u001b[0m\n"
     ]
    },
    {
     "name": "stdout",
     "output_type": "stream",
     "text": [
      "F1 Score Average: 0.834257516082071\n"
     ]
    },
    {
     "name": "stderr",
     "output_type": "stream",
     "text": [
      "\u001b[32m[I 2022-10-22 20:07:14,912]\u001b[0m Trial 20 finished with value: 0.8626146626847288 and parameters: {'lambda': 0.006156042380144676, 'alpha': 0.24553257735697845, 'colsample_bytree': 0.4, 'subsample': 0.8, 'learning_rate': 0.03, 'n_estimators': 1431, 'max_depth': 11, 'min_child_weight': 26}. Best is trial 10 with value: 0.8677244222957535.\u001b[0m\n"
     ]
    },
    {
     "name": "stdout",
     "output_type": "stream",
     "text": [
      "F1 Score Average: 0.8626146626847288\n"
     ]
    },
    {
     "name": "stderr",
     "output_type": "stream",
     "text": [
      "\u001b[32m[I 2022-10-22 20:07:41,856]\u001b[0m Trial 21 finished with value: 0.8685818878787952 and parameters: {'lambda': 0.7103261259878902, 'alpha': 3.818812772685153, 'colsample_bytree': 0.8, 'subsample': 0.6, 'learning_rate': 0.008, 'n_estimators': 2085, 'max_depth': 17, 'min_child_weight': 7}. Best is trial 21 with value: 0.8685818878787952.\u001b[0m\n"
     ]
    },
    {
     "name": "stdout",
     "output_type": "stream",
     "text": [
      "F1 Score Average: 0.8685818878787952\n"
     ]
    },
    {
     "name": "stderr",
     "output_type": "stream",
     "text": [
      "\u001b[32m[I 2022-10-22 20:07:54,016]\u001b[0m Trial 22 finished with value: 0.8628578939361613 and parameters: {'lambda': 3.021134647067766, 'alpha': 3.142421174745128, 'colsample_bytree': 0.8, 'subsample': 0.6, 'learning_rate': 0.008, 'n_estimators': 1910, 'max_depth': 17, 'min_child_weight': 55}. Best is trial 21 with value: 0.8685818878787952.\u001b[0m\n"
     ]
    },
    {
     "name": "stdout",
     "output_type": "stream",
     "text": [
      "F1 Score Average: 0.8628578939361613\n"
     ]
    },
    {
     "name": "stderr",
     "output_type": "stream",
     "text": [
      "\u001b[32m[I 2022-10-22 20:08:30,601]\u001b[0m Trial 23 finished with value: 0.8658686376037498 and parameters: {'lambda': 0.22415492884264313, 'alpha': 0.47601375444642835, 'colsample_bytree': 0.8, 'subsample': 0.6, 'learning_rate': 0.008, 'n_estimators': 2611, 'max_depth': 17, 'min_child_weight': 6}. Best is trial 21 with value: 0.8685818878787952.\u001b[0m\n"
     ]
    },
    {
     "name": "stdout",
     "output_type": "stream",
     "text": [
      "F1 Score Average: 0.8658686376037498\n"
     ]
    },
    {
     "name": "stderr",
     "output_type": "stream",
     "text": [
      "\u001b[32m[I 2022-10-22 20:08:45,343]\u001b[0m Trial 24 finished with value: 0.8669380174147602 and parameters: {'lambda': 0.7630412661951048, 'alpha': 4.622950390477795, 'colsample_bytree': 0.6, 'subsample': 0.6, 'learning_rate': 0.018, 'n_estimators': 2247, 'max_depth': 17, 'min_child_weight': 28}. Best is trial 21 with value: 0.8685818878787952.\u001b[0m\n"
     ]
    },
    {
     "name": "stdout",
     "output_type": "stream",
     "text": [
      "F1 Score Average: 0.8669380174147602\n"
     ]
    },
    {
     "name": "stderr",
     "output_type": "stream",
     "text": [
      "\u001b[32m[I 2022-10-22 20:09:01,009]\u001b[0m Trial 25 finished with value: 0.8663199735545092 and parameters: {'lambda': 0.9075628568746578, 'alpha': 4.4850119545398295, 'colsample_bytree': 0.6, 'subsample': 0.6, 'learning_rate': 0.018, 'n_estimators': 2224, 'max_depth': 17, 'min_child_weight': 23}. Best is trial 21 with value: 0.8685818878787952.\u001b[0m\n"
     ]
    },
    {
     "name": "stdout",
     "output_type": "stream",
     "text": [
      "F1 Score Average: 0.8663199735545092\n"
     ]
    },
    {
     "name": "stderr",
     "output_type": "stream",
     "text": [
      "\u001b[32m[I 2022-10-22 20:09:09,414]\u001b[0m Trial 26 finished with value: 0.8598826987440382 and parameters: {'lambda': 2.7884002364348053, 'alpha': 1.230722197576191, 'colsample_bytree': 0.6, 'subsample': 0.6, 'learning_rate': 0.018, 'n_estimators': 1855, 'max_depth': 17, 'min_child_weight': 73}. Best is trial 21 with value: 0.8685818878787952.\u001b[0m\n"
     ]
    },
    {
     "name": "stdout",
     "output_type": "stream",
     "text": [
      "F1 Score Average: 0.8598826987440382\n"
     ]
    },
    {
     "name": "stderr",
     "output_type": "stream",
     "text": [
      "\u001b[32m[I 2022-10-22 20:09:21,215]\u001b[0m Trial 27 finished with value: 0.8574457465808717 and parameters: {'lambda': 6.573564290826953, 'alpha': 2.22737767531831, 'colsample_bytree': 0.6, 'subsample': 0.6, 'learning_rate': 0.05, 'n_estimators': 2433, 'max_depth': 17, 'min_child_weight': 49}. Best is trial 21 with value: 0.8685818878787952.\u001b[0m\n"
     ]
    },
    {
     "name": "stdout",
     "output_type": "stream",
     "text": [
      "F1 Score Average: 0.8574457465808717\n"
     ]
    },
    {
     "name": "stderr",
     "output_type": "stream",
     "text": [
      "\u001b[32m[I 2022-10-22 20:09:27,094]\u001b[0m Trial 28 finished with value: 0.8514014869297108 and parameters: {'lambda': 0.4092976752503542, 'alpha': 7.849613048735641, 'colsample_bytree': 0.6, 'subsample': 0.6, 'learning_rate': 0.02, 'n_estimators': 1334, 'max_depth': 17, 'min_child_weight': 114}. Best is trial 21 with value: 0.8685818878787952.\u001b[0m\n"
     ]
    },
    {
     "name": "stdout",
     "output_type": "stream",
     "text": [
      "F1 Score Average: 0.8514014869297108\n"
     ]
    },
    {
     "name": "stderr",
     "output_type": "stream",
     "text": [
      "\u001b[32m[I 2022-10-22 20:09:45,055]\u001b[0m Trial 29 finished with value: 0.8656694532551846 and parameters: {'lambda': 2.1815945085319486, 'alpha': 4.8592174595321636, 'colsample_bytree': 0.8, 'subsample': 0.6, 'learning_rate': 0.014, 'n_estimators': 2155, 'max_depth': 17, 'min_child_weight': 20}. Best is trial 21 with value: 0.8685818878787952.\u001b[0m\n"
     ]
    },
    {
     "name": "stdout",
     "output_type": "stream",
     "text": [
      "F1 Score Average: 0.8656694532551846\n",
      "Best F1 Score: 0.8685818878787952\n",
      "Best hyperparam: {'lambda': 0.7103261259878902, 'alpha': 3.818812772685153, 'colsample_bytree': 0.8, 'subsample': 0.6, 'learning_rate': 0.008, 'n_estimators': 2085, 'max_depth': 17, 'min_child_weight': 7}\n"
     ]
    }
   ],
   "source": [
    "def objective(trial):\n",
    "    \n",
    "    train_x, test_x, train_y, test_y = train_test_split(X[FEATURES], y, test_size=0.20,random_state=42)\n",
    "    param = {\n",
    "#         'tree_method':'gpu_hist',  # this parameter means using the GPU when training our model to speedup the training process\n",
    "        'lambda': trial.suggest_loguniform('lambda', 1e-3, 10.0),\n",
    "        'alpha': trial.suggest_loguniform('alpha', 1e-3, 10.0),\n",
    "        'colsample_bytree': trial.suggest_categorical('colsample_bytree', [0.3,0.4,0.5,0.6,0.7,0.8,0.9, 1.0]),\n",
    "        'subsample': trial.suggest_categorical('subsample', [0.4,0.5,0.6,0.7,0.8,1.0]),\n",
    "        'learning_rate': trial.suggest_categorical('learning_rate', [0.008,0.01,0.012,0.014,0.016,0.018, 0.02, 0.03, 0.05, 0.08]),\n",
    "        'n_estimators': trial.suggest_int('n_estimators', 100, 3000),\n",
    "        'max_depth': trial.suggest_categorical('max_depth', [5,7,9,11,13,15,17]),\n",
    "#         'random_state': trial.suggest_categorical('random_state', [2020]),\n",
    "        'min_child_weight': trial.suggest_int('min_child_weight', 1, 300),\n",
    "    }\n",
    "    model = xgb.XGBClassifier(**param)  \n",
    "    \n",
    "    model.fit(train_x,train_y,eval_set=[(test_x,test_y)],early_stopping_rounds=100,verbose=False)\n",
    "    \n",
    "#     preds = model.predict(test_x)\n",
    "    \n",
    "    scores = cross_val_score(model, X[FEATURES], y,\n",
    "                              cv=5,\n",
    "                              scoring='f1_weighted')\n",
    "\n",
    "    scores_mean = scores.mean()\n",
    "                  \n",
    "    print(f'F1 Score Average: {scores_mean}' )\n",
    "                  \n",
    "    return scores_mean\n",
    "\n",
    "\n",
    "study = optuna.create_study(direction='maximize')\n",
    "study.optimize(objective,n_trials=30);\n",
    "\n",
    "trial = study.best_trial\n",
    "\n",
    "print('Best F1 Score: {}'.format(trial.value))\n",
    "print('Best hyperparam: {}'.format(trial.params))"
   ]
  },
  {
   "cell_type": "code",
   "execution_count": 271,
   "id": "c263418a",
   "metadata": {
    "ExecuteTime": {
     "end_time": "2022-10-22T23:10:47.615632Z",
     "start_time": "2022-10-22T23:10:47.612295Z"
    },
    "hidden": true
   },
   "outputs": [
    {
     "data": {
      "text/plain": [
       "\"F1 Score Average: 0.8656694532551846\\nBest F1 Score: 0.8685818878787952\\nBest hyperparam: {'lambda': 0.7103261259878902, 'alpha': 3.818812772685153, 'colsample_bytree': 0.8, 'subsample': 0.6, 'learning_rate': 0.008, 'n_estimators': 2085, 'max_depth': 17, 'min_child_weight': 7}\""
      ]
     },
     "execution_count": 271,
     "metadata": {},
     "output_type": "execute_result"
    }
   ],
   "source": [
    "\"\"\"F1 Score Average: 0.8656694532551846\n",
    "Best F1 Score: 0.8685818878787952\n",
    "Best hyperparam: {'lambda': 0.7103261259878902, \n",
    "                  'alpha': 3.818812772685153, \n",
    "                  'colsample_bytree': 0.8, \n",
    "                  'subsample': 0.6, \n",
    "                   'learning_rate': 0.008, \n",
    "                   'n_estimators': 2085, \n",
    "                   'max_depth': 17, \n",
    "                   'min_child_weight': 7}\"\"\""
   ]
  },
  {
   "cell_type": "markdown",
   "id": "805fbb19",
   "metadata": {
    "heading_collapsed": true
   },
   "source": [
    "## 4.4 LGBM"
   ]
  },
  {
   "cell_type": "code",
   "execution_count": 47,
   "id": "d9ab75e2",
   "metadata": {
    "ExecuteTime": {
     "end_time": "2022-10-24T03:00:12.569609Z",
     "start_time": "2022-10-24T03:00:11.577832Z"
    },
    "hidden": true
   },
   "outputs": [
    {
     "name": "stdout",
     "output_type": "stream",
     "text": [
      "Fold: 0\n",
      "AUC = 0.90338 F1-Score: 0.85908\n",
      "Fold: 1\n",
      "AUC = 0.93540 F1-Score: 0.88193\n",
      "Fold: 2\n",
      "AUC = 0.92510 F1-Score: 0.88133\n",
      "Fold: 3\n",
      "AUC = 0.92640 F1-Score: 0.87736\n",
      "Fold: 4\n",
      "AUC = 0.92021 F1-Score: 0.86324\n",
      "\n",
      "Average AUC = 0.92210\n",
      "Average F1-Score = 0.87259\n",
      "\n",
      "CPU times: user 5.87 s, sys: 29.6 ms, total: 5.9 s\n",
      "Wall time: 987 ms\n"
     ]
    }
   ],
   "source": [
    "%%time\n",
    "\n",
    "f1s = []\n",
    "aucs = []\n",
    "preds_test = []\n",
    "importances = []\n",
    "oof_pred = []; oof_tar = []; oof_names = []; oof_folds = [] \n",
    "kf = StratifiedKFold(n_splits=CFG.FOLDS, shuffle=True, random_state=CFG.seed)\n",
    "\n",
    "for fold, (tr_idx, val_idx) in enumerate(kf.split(X[FEATURES], X[TARGET])):\n",
    "    print('Fold:', fold)\n",
    "    \n",
    "    # split train/val\n",
    "    X_tr = X.loc[tr_idx, FEATURES]\n",
    "    y_tr = X.loc[tr_idx, TARGET]\n",
    "    X_va = X.loc[val_idx, FEATURES]\n",
    "    y_va = X.loc[val_idx, TARGET]\n",
    "    \n",
    "\n",
    "    # MODEL\n",
    "    model_lgb = lgbm.LGBMClassifier(\n",
    "                reg_lambda= 1.6626804101540482, \n",
    "                  alpha= 0.29793371309642636, \n",
    "                  colsample_bytree= 0.9, \n",
    "                  subsample= 0.7, \n",
    "                  learning_rate= 0.15, \n",
    "                  n_estimators= 200, \n",
    "                  max_depth= 17,\n",
    "                  num_leaves=100,\n",
    "                  min_child_weight= 49,\n",
    "                n_jobs=-1\n",
    "    )\n",
    "\n",
    "    \n",
    "    model_lgb.fit(X_tr, y_tr)\n",
    "                                    \n",
    "    # Validate model\n",
    "    va_preds = model_lgb.predict_proba(X_va)[:, 1]\n",
    "    vaf1_preds = model_lgb.predict(X_va)\n",
    "    score    = roc_auc_score(y_va, va_preds)\n",
    "    f1       = f1_score(y_va, vaf1_preds, average='weighted')\n",
    "    print(f\"AUC = {score:.5f} F1-Score: {f1:.5f}\") # , C = {model.get_params['C']}, penalty = {model.get_params['penalty']}\n",
    "    aucs.append(score)\n",
    "    f1s.append(f1)\n",
    "    \n",
    "    # Test set predictions\n",
    "#     preds_test.append(model.predict_proba(test[FEATURES])[:, 1])\n",
    "    preds_test.append(model_lgb.predict(test_aux[FEATURES]))\n",
    "    df_sub[f'fold_{fold}'] = preds_test[fold]\n",
    "    \n",
    "    \n",
    "    # Feature Importances\n",
    "    importances.append(model_lgb.feature_importances_)\n",
    "    \n",
    "    \n",
    "    ### free memory\n",
    "#     del X_tr, y_tr\n",
    "#     del X_va, y_va\n",
    "    gc.collect()\n",
    "\n",
    "    \n",
    "    \n",
    "print(f'\\nAverage AUC = {sum(aucs) / len(aucs):.5f}')\n",
    "print(f'Average F1-Score = {sum(f1s) / len(f1s):.5f}' )\n",
    "print('')\n",
    "preds_lgb = sum(preds_test)/len(preds_test)"
   ]
  },
  {
   "cell_type": "code",
   "execution_count": 48,
   "id": "9abf40fa",
   "metadata": {
    "ExecuteTime": {
     "end_time": "2022-10-24T03:00:13.557493Z",
     "start_time": "2022-10-24T03:00:13.554222Z"
    },
    "hidden": true
   },
   "outputs": [],
   "source": [
    "fpr, tpr, thresholds = roc_curve(y_va, va_preds)"
   ]
  },
  {
   "cell_type": "code",
   "execution_count": 49,
   "id": "78004955",
   "metadata": {
    "ExecuteTime": {
     "end_time": "2022-10-24T03:00:17.803670Z",
     "start_time": "2022-10-24T03:00:17.800055Z"
    },
    "hidden": true
   },
   "outputs": [
    {
     "data": {
      "text/plain": [
       "0.4272457846856145"
      ]
     },
     "execution_count": 49,
     "metadata": {},
     "output_type": "execute_result"
    }
   ],
   "source": [
    "np.mean(thresholds)"
   ]
  },
  {
   "cell_type": "markdown",
   "id": "b0d8acbd",
   "metadata": {
    "heading_collapsed": true,
    "hidden": true
   },
   "source": [
    "### 4.4.1 Optuna - LGBM"
   ]
  },
  {
   "cell_type": "code",
   "execution_count": 291,
   "id": "fcd6a7c3",
   "metadata": {
    "ExecuteTime": {
     "end_time": "2022-10-22T23:33:32.970783Z",
     "start_time": "2022-10-22T23:33:32.968097Z"
    },
    "hidden": true
   },
   "outputs": [],
   "source": [
    "# def objective(trial):\n",
    "#     params = {\n",
    "#         'metric':'f1',\n",
    "# #         'tree_method':'gpu_hist',  \n",
    "#         'lambda': trial.suggest_loguniform('lambda', 1e-3, 10.0),\n",
    "#         'alpha': trial.suggest_loguniform('alpha', 1e-3, 10.0),\n",
    "#         'colsample_bytree': trial.suggest_categorical('colsample_bytree', [0.5,0.6,0.7,0.8,0.9,1.0]),\n",
    "#         'subsample': trial.suggest_categorical('subsample', [0.6,0.7,0.8,1.0]),\n",
    "#         'learning_rate': trial.suggest_categorical('learning_rate', [0.15,0.02,0.025,0.03]),\n",
    "#         'n_estimators': trial.suggest_categorical(\"n_estimators\", [150, 200, 300,1000, 1500]),\n",
    "#         'max_depth': trial.suggest_categorical('max_depth', [4,5,7,9,11,13,15,17]),\n",
    "#         'min_child_weight': trial.suggest_int('min_child_weight', 1, 300),\n",
    "\n",
    "#     }\n",
    "    \n",
    "#     model =  lgbm.LGBMClassifier(**params)\n",
    "#     scores = cross_val_score(model, X[FEATURES], y,\n",
    "#                               cv=5,\n",
    "#                               scoring='f1_weighted')\n",
    "\n",
    "#     scores_mean = scores.mean()\n",
    "                  \n",
    "#     print(f'F1 Score Average: {scores_mean}' )\n",
    "                  \n",
    "#     return scores_mean\n",
    "\n",
    "# study = optuna.create_study(direction='maximize')\n",
    "# study.optimize(objective,n_trials=30);\n",
    "\n",
    "# trial = study.best_trial\n",
    "\n",
    "# print('Best F1 Score: {}'.format(trial.value))\n",
    "# print('Best hyperparam: {}'.format(trial.params))"
   ]
  },
  {
   "cell_type": "code",
   "execution_count": null,
   "id": "764ca5e4",
   "metadata": {
    "hidden": true
   },
   "outputs": [],
   "source": [
    "\"\"\"\n",
    "Best F1 Score: 0.8696550511688275\n",
    "Best hyperparam: {'lambda': 1.6626804101540482, \n",
    "                  'alpha': 0.29793371309642636, \n",
    "                  'colsample_bytree': 0.9, \n",
    "                  'subsample': 0.7, \n",
    "                  'learning_rate': 0.15, \n",
    "                  'n_estimators': 150, \n",
    "                  'max_depth': 17, \n",
    "                  'min_child_weight': 49}\"\"\""
   ]
  },
  {
   "cell_type": "markdown",
   "id": "fc999922",
   "metadata": {
    "heading_collapsed": true
   },
   "source": [
    "## 4.5 Feature Importances"
   ]
  },
  {
   "cell_type": "code",
   "execution_count": 50,
   "id": "2a8718e6",
   "metadata": {
    "ExecuteTime": {
     "end_time": "2022-10-24T03:00:48.061607Z",
     "start_time": "2022-10-24T03:00:47.928147Z"
    },
    "hidden": true,
    "scrolled": false
   },
   "outputs": [
    {
     "name": "stdout",
     "output_type": "stream",
     "text": [
      "\u001b[36m\u001b[1mAverage AUC = 0.92210\n",
      "Average F1-Score = 0.87259\u001b[0m\n"
     ]
    },
    {
     "data": {
      "image/png": "[encoded data removed]",
      "text/plain": [
       "<Figure size 1800x864 with 1 Axes>"
      ]
     },
     "metadata": {},
     "output_type": "display_data"
    }
   ],
   "source": [
    "print(f\"{Fore.CYAN}{Style.BRIGHT}Average AUC = {sum(aucs) / len(aucs):.5f}\\nAverage F1-Score = {sum(f1s) / len(f1s):.5f}{Style.RESET_ALL}\")\n",
    "\n",
    "if type(model_lgb).__name__ == 'LGBMClassifier':\n",
    "    lgbm.plot_importance(model_lgb, max_num_features = 5, height=.5)\n",
    "else:\n",
    "    importance_df = pd.DataFrame(np.array(importances).T, index=FEATURES)\n",
    "    importance_df['mean'] = importance_df.mean(axis=1).abs()\n",
    "    importance_df['feature'] = FEATURES\n",
    "    importance_df = importance_df.sort_values('mean', ascending=False).reset_index().head(5)\n",
    "    plt.figure(figsize=(14, 4))\n",
    "    plt.barh(importance_df.index, importance_df['mean'], color='cyan')\n",
    "    plt.gca().invert_yaxis()\n",
    "    plt.yticks(ticks=importance_df.index, labels=importance_df['feature'])\n",
    "    plt.title('LGBM Feature Importances')\n",
    "    plt.show()"
   ]
  },
  {
   "cell_type": "code",
   "execution_count": null,
   "id": "38f2b8fa",
   "metadata": {
    "ExecuteTime": {
     "end_time": "2022-10-22T15:28:05.701803Z",
     "start_time": "2022-10-22T15:28:05.269520Z"
    },
    "hidden": true,
    "hide_input": true
   },
   "outputs": [],
   "source": [
    "mi_scores = mutual_info_classif(X[FEATURES], y)\n",
    "mi_scores_classif = make_mi_scores(mi_scores, X[FEATURES], y)\n",
    "\n",
    "plt.figure(dpi=100, figsize=(12, 8))\n",
    "columns = plot_mi_scores(mi_scores_classif[mi_scores_classif > 1e-3], X)"
   ]
  },
  {
   "cell_type": "markdown",
   "id": "5bd44e3c",
   "metadata": {},
   "source": [
    "# 5.0 Non-Nested CV"
   ]
  },
  {
   "cell_type": "markdown",
   "id": "33beaae0",
   "metadata": {},
   "source": [
    "Tried a different approach from KFold Cross-Validation and it seems to have worked out :)"
   ]
  },
  {
   "cell_type": "code",
   "execution_count": 51,
   "id": "cd3f3bfe",
   "metadata": {
    "ExecuteTime": {
     "end_time": "2022-10-24T03:01:08.857184Z",
     "start_time": "2022-10-24T03:01:08.854789Z"
    }
   },
   "outputs": [],
   "source": [
    "# INSERIR MANUALMENTE!\n",
    "MODEL_INFO = 'XGB_LGBM_ensemble_02_featAgg'"
   ]
  },
  {
   "cell_type": "code",
   "execution_count": 52,
   "id": "13a697f1",
   "metadata": {
    "ExecuteTime": {
     "end_time": "2022-10-24T03:01:09.229057Z",
     "start_time": "2022-10-24T03:01:09.223418Z"
    }
   },
   "outputs": [],
   "source": [
    "X_train, X_val, y_train, y_val = train_test_split(X[FEATURES], y, test_size=.2)"
   ]
  },
  {
   "cell_type": "code",
   "execution_count": 53,
   "id": "05aea126",
   "metadata": {
    "ExecuteTime": {
     "end_time": "2022-10-24T03:01:18.365746Z",
     "start_time": "2022-10-24T03:01:18.191703Z"
    }
   },
   "outputs": [
    {
     "data": {
      "text/plain": [
       "0.8626899772845338"
      ]
     },
     "execution_count": 53,
     "metadata": {},
     "output_type": "execute_result"
    }
   ],
   "source": [
    "xgb_model = xgb.XGBClassifier(n_estimators=300)\n",
    "xgb_model.fit(X_train[FEATURES], y_train,\n",
    "            eval_set=[(X_train[FEATURES],y_train)\\\n",
    "                      ,(X_val[FEATURES], y_val)],\n",
    "            early_stopping_rounds=25,\n",
    "           verbose=False)\n",
    "predictions = xgb_model.predict(X_val[FEATURES])\n",
    "\n",
    "X_val['predictions'] = predictions\n",
    "f1_score(y_val,X_val.predictions, average='weighted')"
   ]
  },
  {
   "cell_type": "code",
   "execution_count": 54,
   "id": "8084c723",
   "metadata": {
    "ExecuteTime": {
     "end_time": "2022-10-24T03:01:23.940946Z",
     "start_time": "2022-10-24T03:01:23.803865Z"
    }
   },
   "outputs": [
    {
     "data": {
      "text/plain": [
       "0.8631630455413156"
      ]
     },
     "execution_count": 54,
     "metadata": {},
     "output_type": "execute_result"
    }
   ],
   "source": [
    "lgb_model = lgbm.LGBMClassifier(n_estimators=1000)\n",
    "lgb_model.fit(X_train[FEATURES], y_train,\n",
    "        eval_set=[(X_train[FEATURES],y_train)\\\n",
    "                  ,(X_val[FEATURES], y_val)],\n",
    "        early_stopping_rounds=25,verbose=False)\n",
    "\n",
    "X_val['predictions'] = lgb_model.predict(X_val[FEATURES])\n",
    "f1_score(y_val,X_val.predictions, average='weighted')"
   ]
  },
  {
   "cell_type": "code",
   "execution_count": 59,
   "id": "18053214",
   "metadata": {
    "ExecuteTime": {
     "end_time": "2022-10-24T03:02:19.990149Z",
     "start_time": "2022-10-24T03:02:19.968622Z"
    }
   },
   "outputs": [],
   "source": [
    "predictions1 = lgb_model.predict(test_aux[FEATURES])\n",
    "predictions2 = xgb_model.predict(test_aux[FEATURES])\n",
    "\n",
    "predictions = (predictions1*0.49)+(predictions2*(0.51))"
   ]
  },
  {
   "cell_type": "markdown",
   "id": "b2abd67b",
   "metadata": {},
   "source": [
    "# 6.0 Submission"
   ]
  },
  {
   "cell_type": "code",
   "execution_count": 61,
   "id": "111d2653",
   "metadata": {
    "ExecuteTime": {
     "end_time": "2022-10-24T03:04:25.026027Z",
     "start_time": "2022-10-24T03:04:25.023307Z"
    }
   },
   "outputs": [],
   "source": [
    "df_sub['limite_adicional'] = predictions"
   ]
  },
  {
   "cell_type": "code",
   "execution_count": 62,
   "id": "6ea5d970",
   "metadata": {
    "ExecuteTime": {
     "end_time": "2022-10-24T03:04:27.443478Z",
     "start_time": "2022-10-24T03:04:27.439745Z"
    }
   },
   "outputs": [],
   "source": [
    "df_sub['limite_adicional'] = df_sub['limite_adicional'].apply(lambda x: 0 if x < 0.5 else 1)"
   ]
  },
  {
   "cell_type": "code",
   "execution_count": 63,
   "id": "0b444467",
   "metadata": {
    "ExecuteTime": {
     "end_time": "2022-10-24T03:04:27.655661Z",
     "start_time": "2022-10-24T03:04:27.652346Z"
    }
   },
   "outputs": [],
   "source": [
    "df_sub['limite_adicional'] = df_sub['limite_adicional'].replace([0, 1], ['Negar', 'Conceder'])"
   ]
  },
  {
   "cell_type": "code",
   "execution_count": 64,
   "id": "8faea1f3",
   "metadata": {
    "ExecuteTime": {
     "end_time": "2022-10-24T03:04:27.987099Z",
     "start_time": "2022-10-24T03:04:27.981034Z"
    },
    "scrolled": true
   },
   "outputs": [
    {
     "data": {
      "text/html": [
       "<div>\n",
       "<style scoped>\n",
       "    .dataframe tbody tr th:only-of-type {\n",
       "        vertical-align: middle;\n",
       "    }\n",
       "\n",
       "    .dataframe tbody tr th {\n",
       "        vertical-align: top;\n",
       "    }\n",
       "\n",
       "    .dataframe thead th {\n",
       "        text-align: right;\n",
       "    }\n",
       "</style>\n",
       "<table border=\"1\" class=\"dataframe\">\n",
       "  <thead>\n",
       "    <tr style=\"text-align: right;\">\n",
       "      <th></th>\n",
       "      <th>id_cliente</th>\n",
       "      <th>limite_adicional</th>\n",
       "    </tr>\n",
       "  </thead>\n",
       "  <tbody>\n",
       "    <tr>\n",
       "      <th>0</th>\n",
       "      <td>2</td>\n",
       "      <td>Conceder</td>\n",
       "    </tr>\n",
       "    <tr>\n",
       "      <th>1</th>\n",
       "      <td>5</td>\n",
       "      <td>Negar</td>\n",
       "    </tr>\n",
       "    <tr>\n",
       "      <th>2</th>\n",
       "      <td>6</td>\n",
       "      <td>Negar</td>\n",
       "    </tr>\n",
       "    <tr>\n",
       "      <th>3</th>\n",
       "      <td>8</td>\n",
       "      <td>Negar</td>\n",
       "    </tr>\n",
       "    <tr>\n",
       "      <th>4</th>\n",
       "      <td>10</td>\n",
       "      <td>Conceder</td>\n",
       "    </tr>\n",
       "  </tbody>\n",
       "</table>\n",
       "</div>"
      ],
      "text/plain": [
       "   id_cliente limite_adicional\n",
       "0           2         Conceder\n",
       "1           5            Negar\n",
       "2           6            Negar\n",
       "3           8            Negar\n",
       "4          10         Conceder"
      ]
     },
     "execution_count": 64,
     "metadata": {},
     "output_type": "execute_result"
    }
   ],
   "source": [
    "df_sub[['id_cliente', 'limite_adicional']].head()"
   ]
  },
  {
   "cell_type": "code",
   "execution_count": 61,
   "id": "d1a6dfab",
   "metadata": {
    "ExecuteTime": {
     "end_time": "2022-10-23T19:27:00.771426Z",
     "start_time": "2022-10-23T19:27:00.765226Z"
    }
   },
   "outputs": [],
   "source": [
    "df_sub[['id_cliente', 'limite_adicional']].to_csv(f'subs/sub_{MODEL_INFO}.csv', index=False)"
   ]
  },
  {
   "cell_type": "code",
   "execution_count": 65,
   "id": "a97cdbe4",
   "metadata": {
    "ExecuteTime": {
     "end_time": "2022-10-24T03:05:00.602823Z",
     "start_time": "2022-10-24T03:05:00.596572Z"
    }
   },
   "outputs": [
    {
     "data": {
      "text/plain": [
       "Negar       2637\n",
       "Conceder     363\n",
       "Name: limite_adicional, dtype: int64"
      ]
     },
     "execution_count": 65,
     "metadata": {},
     "output_type": "execute_result"
    }
   ],
   "source": [
    "df_sub[TARGET].value_counts()"
   ]
  }
 ],
 "metadata": {
  "kernelspec": {
   "display_name": "Python 3 (ipykernel)",
   "language": "python",
   "name": "python3"
  },
  "language_info": {
   "codemirror_mode": {
    "name": "ipython",
    "version": 3
   },
   "file_extension": ".py",
   "mimetype": "text/x-python",
   "name": "python",
   "nbconvert_exporter": "python",
   "pygments_lexer": "ipython3",
   "version": "3.10.5"
  }
 },
 "nbformat": 4,
 "nbformat_minor": 5
}
